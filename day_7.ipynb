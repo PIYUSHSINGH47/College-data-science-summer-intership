{
 "cells": [
  {
   "cell_type": "code",
   "execution_count": 20,
   "metadata": {},
   "outputs": [
    {
     "name": "stdout",
     "output_type": "stream",
     "text": [
      "[0.51524179 0.88424496 0.09352096 0.27778826 0.01810271]\n"
     ]
    }
   ],
   "source": [
    "import numpy as np\n",
    "\n",
    "# Generate a 1-dimensional array of 5 random numbers between 0 and 1\n",
    "random_array = np.random.rand(5)\n",
    "print(random_array)\n"
   ]
  },
  {
   "cell_type": "code",
   "execution_count": 21,
   "metadata": {},
   "outputs": [
    {
     "name": "stdout",
     "output_type": "stream",
     "text": [
      "[[[-0.60884562]\n",
      "  [ 0.60838805]\n",
      "  [-1.21605535]]\n",
      "\n",
      " [[-0.42770927]\n",
      "  [ 0.4590076 ]\n",
      "  [ 0.25116788]]]\n"
     ]
    }
   ],
   "source": [
    "\n",
    "\n",
    "# Generate a 1-dimensional array of 5 random numbers between 0 and 1\n",
    "random_array = np.random.randn(2,3,1)\n",
    "print(random_array)\n"
   ]
  },
  {
   "cell_type": "code",
   "execution_count": 22,
   "metadata": {},
   "outputs": [],
   "source": [
    "import numpy as np\n",
    "import pandas as pd\n",
    "import matplotlib.pyplot as plt\n",
    "import scipy.stats as stt"
   ]
  },
  {
   "cell_type": "code",
   "execution_count": 23,
   "metadata": {},
   "outputs": [
    {
     "name": "stdout",
     "output_type": "stream",
     "text": [
      "20.0\n",
      "20.0\n"
     ]
    }
   ],
   "source": [
    "data=[10,15,20,25,30]\n",
    "mean1=np.mean(data)\n",
    "print(mean1)\n",
    "median1=np.median(data)\n",
    "print(median1)"
   ]
  },
  {
   "cell_type": "code",
   "execution_count": 24,
   "metadata": {},
   "outputs": [
    {
     "name": "stdout",
     "output_type": "stream",
     "text": [
      "7.0710678118654755\n"
     ]
    }
   ],
   "source": [
    "std_dev=np.std(data)\n",
    "print(std_dev)"
   ]
  },
  {
   "cell_type": "code",
   "execution_count": 25,
   "metadata": {},
   "outputs": [
    {
     "name": "stdout",
     "output_type": "stream",
     "text": [
      "t-statistics -0.6546536707079772\n",
      "P_value: 0.5416045607931204\n"
     ]
    }
   ],
   "source": [
    "sample_data=[23,27,25,24,22,26]\n",
    "population_mean=25\n",
    "t_stat,p_value=stt.ttest_1samp(sample_data,population_mean)\n",
    "print(\"t-statistics\",t_stat)\n",
    "print(\"P_value:\",p_value)"
   ]
  },
  {
   "cell_type": "code",
   "execution_count": 26,
   "metadata": {},
   "outputs": [
    {
     "name": "stdout",
     "output_type": "stream",
     "text": [
      "ther is no significant difference between sample mean and population mean\n"
     ]
    }
   ],
   "source": [
    "if p_value<0.05:\n",
    "    print(\"The sample mean is different from the population mean\")\n",
    "else:\n",
    "    print(\"ther is no significant difference between sample mean and population mean\")"
   ]
  },
  {
   "cell_type": "code",
   "execution_count": 27,
   "metadata": {},
   "outputs": [
    {
     "name": "stdout",
     "output_type": "stream",
     "text": [
      "Random sample: [67, 15, 27, 95, 41, 59, 25, 72, 16, 88]\n"
     ]
    }
   ],
   "source": [
    "import random\n",
    "population_data=list(range(1,101))\n",
    "sample_size=10\n",
    "random_sample=random.sample(population_data,sample_size)\n",
    "print(\"Random sample:\",random_sample)"
   ]
  },
  {
   "cell_type": "code",
   "execution_count": 28,
   "metadata": {},
   "outputs": [
    {
     "name": "stdout",
     "output_type": "stream",
     "text": [
      "Corerelation coefficient: 0.9999999999999999\n"
     ]
    }
   ],
   "source": [
    "x=np.array([1,2,3,4,5])\n",
    "y=np.array([2,4,6,8,10])\n",
    "corerelation_coef=np.corrcoef(x,y)[0,1]\n",
    "print(\"Corerelation coefficient:\",corerelation_coef)"
   ]
  },
  {
   "cell_type": "code",
   "execution_count": 29,
   "metadata": {},
   "outputs": [
    {
     "name": "stdout",
     "output_type": "stream",
     "text": [
      "Corerelation coefficient: 0.9999999999999999\n"
     ]
    }
   ],
   "source": [
    "x=np.array([13,24,35,46,57])\n",
    "y=np.array([2,4,6,8,10])\n",
    "corerelation_coef=np.corrcoef(x,y)[0,1]\n",
    "print(\"Corerelation coefficient:\",corerelation_coef)"
   ]
  },
  {
   "cell_type": "code",
   "execution_count": 30,
   "metadata": {},
   "outputs": [],
   "source": [
    "# plt.imshow(x,cmap='hot')\n",
    "# plt.colorbar()\n",
    "# plt.title('Heatmap')\n",
    "# plt.show()"
   ]
  },
  {
   "cell_type": "code",
   "execution_count": 31,
   "metadata": {},
   "outputs": [
    {
     "data": {
      "image/png": "[encoded data removed]",
      "text/plain": [
       "<Figure size 640x480 with 1 Axes>"
      ]
     },
     "metadata": {},
     "output_type": "display_data"
    }
   ],
   "source": [
    "slope,intercept,r_value,p_value,std_err=stt.linregress(x,y)\n",
    "predicted_y=slope*x+intercept\n",
    "plt.scatter(x,y,label='Data')\n",
    "plt.plot(x,predicted_y,color='red',label='Regression Line')\n",
    "plt.legend()\n",
    "plt.xlabel('X')\n",
    "plt.ylabel('Y')\n",
    "plt.show()"
   ]
  }
 ],
 "metadata": {
  "kernelspec": {
   "display_name": "Python 3",
   "language": "python",
   "name": "python3"
  },
  "language_info": {
   "codemirror_mode": {
    "name": "ipython",
    "version": 3
   },
   "file_extension": ".py",
   "mimetype": "text/x-python",
   "name": "python",
   "nbconvert_exporter": "python",
   "pygments_lexer": "ipython3",
   "version": "3.11.0"
  },
  "orig_nbformat": 4
 },
 "nbformat": 4,
 "nbformat_minor": 2
}
