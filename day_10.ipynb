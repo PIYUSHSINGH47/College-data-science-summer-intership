{
 "cells": [
  {
   "cell_type": "code",
   "execution_count": 23,
   "metadata": {},
   "outputs": [],
   "source": [
    "import numpy as np"
   ]
  },
  {
   "cell_type": "code",
   "execution_count": 24,
   "metadata": {},
   "outputs": [],
   "source": [
    "def sigmoid(x):\n",
    "    return 1/(1+np.exp(-x))\n",
    "def sigmoid_derivative(x):\n",
    "    return x*(1-x)\n",
    "inputs=np.array([[0,0],[0,1],[1,0],[1,1]])\n",
    "outputs=np.array([[0],[1],[1],[0]])"
   ]
  },
  {
   "cell_type": "code",
   "execution_count": 25,
   "metadata": {},
   "outputs": [],
   "source": [
    "np.random.seed(100)\n",
    "input_size=2\n",
    "hidden_size=4\n",
    "output_size=1\n",
    "weights_input_hidden=np.random.uniform(-1,1,(input_size,hidden_size))\n",
    "weights_hidden_output=np.random.uniform(-1,1,(hidden_size,output_size))"
   ]
  },
  {
   "cell_type": "code",
   "execution_count": 26,
   "metadata": {},
   "outputs": [],
   "source": [
    "#hyperparameters\n",
    "learning_rate=0.1\n",
    "epochs=10000"
   ]
  },
  {
   "cell_type": "code",
   "execution_count": 27,
   "metadata": {},
   "outputs": [],
   "source": [
    "#training loop\n",
    "for epoch in range(epochs):\n",
    "    #forward propagation\n",
    "    hidden_layer_input=np.dot(inputs,weights_input_hidden)\n",
    "    hidden_layer_output=sigmoid(hidden_layer_input)\n",
    "    output_layer_input=np.dot(hidden_layer_output,weights_hidden_output)\n",
    "    predicted_output=sigmoid(output_layer_input)"
   ]
  },
  {
   "cell_type": "code",
   "execution_count": 28,
   "metadata": {},
   "outputs": [],
   "source": [
    "error=outputs-predicted_output\n",
    "d_predicted_output=error*sigmoid_derivative(predicted_output)\n",
    "error_hidden_layer=d_predicted_output.dot(weights_hidden_output.T)\n",
    "d_hidden_layer=error_hidden_layer*\\\n",
    "    sigmoid_derivative(hidden_layer_output)\n",
    "#update weights\n",
    "weights_hidden_output+=hidden_layer_output.\\\n",
    "    T.dot(d_predicted_output)\\\n",
    "        *learning_rate\n",
    "weights_input_hidden+=inputs.T.dot(d_hidden_layer)*learning_rate\n"
   ]
  },
  {
   "cell_type": "code",
   "execution_count": 29,
   "metadata": {},
   "outputs": [
    {
     "name": "stdout",
     "output_type": "stream",
     "text": [
      "`Predicted XOR outputs:\n",
      "[[0.45441108]\n",
      " [0.4828465 ]\n",
      " [0.41576751]\n",
      " [0.44976347]]\n"
     ]
    }
   ],
   "source": [
    "#Test the trained network\n",
    "test_input=np.array([[0,0],[0,1],[1,0],[1,1]])\n",
    "test_output=sigmoid(np.dot(sigmoid(np.dot(test_input,weights_input_hidden)),weights_hidden_output))\n",
    "print(\"`Predicted XOR outputs:\")\n",
    "print(test_output)"
   ]
  }
 ],
 "metadata": {
  "kernelspec": {
   "display_name": "Python 3",
   "language": "python",
   "name": "python3"
  },
  "language_info": {
   "codemirror_mode": {
    "name": "ipython",
    "version": 3
   },
   "file_extension": ".py",
   "mimetype": "text/x-python",
   "name": "python",
   "nbconvert_exporter": "python",
   "pygments_lexer": "ipython3",
   "version": "3.11.0"
  },
  "orig_nbformat": 4
 },
 "nbformat": 4,
 "nbformat_minor": 2
}
